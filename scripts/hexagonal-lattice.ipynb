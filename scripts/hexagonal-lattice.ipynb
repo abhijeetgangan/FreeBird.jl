{
 "cells": [
  {
   "cell_type": "markdown",
   "metadata": {
    "vscode": {
     "languageId": "julia"
    }
   },
   "source": [
    "# Hexagonal Lattice"
   ]
  },
  {
   "cell_type": "code",
   "execution_count": 1,
   "metadata": {},
   "outputs": [],
   "source": [
    "using FreeBird\n",
    "using Plots"
   ]
  },
  {
   "cell_type": "code",
   "execution_count": 2,
   "metadata": {},
   "outputs": [
    {
     "name": "stdout",
     "output_type": "stream",
     "text": [
      "FreeBird.AbstractWalkers.Lattice2DSystem(:hexagonal, (4, 4), 8, Bool[1 1 1 0; 1 0 1 0; 0 0 0 1; 0 1 0 1])\n"
     ]
    }
   ],
   "source": [
    "# Plot a 4x4 hexagonal lattice with 8 occupied sites\n",
    "lattice_type = :hexagonal\n",
    "dims = (4, 4)\n",
    "num_occ_sites = 8\n",
    "seed = 1234\n",
    "site_occupancy = AbstractWalkers.Lattice2DSystem(lattice_type, dims, num_occ_sites, seed)\n",
    "println(site_occupancy)"
   ]
  }
 ],
 "metadata": {
  "kernelspec": {
   "display_name": "Julia 1.10.2",
   "language": "julia",
   "name": "julia-1.10"
  },
  "language_info": {
   "file_extension": ".jl",
   "mimetype": "application/julia",
   "name": "julia",
   "version": "1.10.2"
  }
 },
 "nbformat": 4,
 "nbformat_minor": 2
}
